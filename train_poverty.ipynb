{
 "cells": [
  {
   "cell_type": "code",
   "execution_count": 1,
   "metadata": {},
   "outputs": [
    {
     "name": "stderr",
     "output_type": "stream",
     "text": [
      "c:\\Users\\CITY3\\.conda\\envs\\i-jepaVENV\\Lib\\site-packages\\tqdm\\auto.py:21: TqdmWarning: IProgress not found. Please update jupyter and ipywidgets. See https://ipywidgets.readthedocs.io/en/stable/user_install.html\n",
      "  from .autonotebook import tqdm as notebook_tqdm\n"
     ]
    }
   ],
   "source": [
    "#setup data\n",
    "from dataloader import customDataset, create_dataloader, get_sample_weights\n",
    "from torchvision.transforms import Compose, Resize, Normalize, ToTensor, RandomResizedCrop, RandomHorizontalFlip, RandomVerticalFlip, ColorJitter\n",
    "from torch.utils.data import random_split, DataLoader, WeightedRandomSampler\n",
    "\n",
    "transforms = Compose([\n",
    "    # RandomResizedCrop(size=(256, 256), scale=(0.1, 0.25)),\n",
    "    Resize((256, 256)), # Resize images\n",
    "    RandomHorizontalFlip(), \n",
    "    RandomVerticalFlip(), \n",
    "    ColorJitter(brightness=0.2, contrast=0.2, saturation=0.2, hue=0.1),  # value is chosen uniformly form [1-v, 1+v]\n",
    "    # ToTensor(), # Convert images to tensors\n",
    "    # Normalize(mean=[0.485, 0.456, 0.406], std=[0.229, 0.224, 0.225]), # Normalize images\n",
    "])\n",
    "\n"
   ]
  },
  {
   "cell_type": "code",
   "execution_count": 2,
   "metadata": {},
   "outputs": [],
   "source": [
    "# Directory containing your dataset\n",
    "directory = r\"D:\\omer\\poverty_mapping_data\\clipped_data_survey\"\n",
    "\n",
    "# Calculate sample weights\n",
    "# sample_weights = get_sample_weights(directory, class_counts)\n",
    "\n",
    "# Create a WeightedRandomSampler\n",
    "# sampler = WeightedRandomSampler(weights=sample_weights, num_samples=len(sample_weights), replacement=True)\n"
   ]
  },
  {
   "cell_type": "code",
   "execution_count": 3,
   "metadata": {},
   "outputs": [],
   "source": [
    "dataset = customDataset(directory=directory, transform=transforms, mode=\"survey\")\n",
    "\n",
    "# train/test split\n",
    "train_size = int(0.7 * len(dataset))\n",
    "test_size = len(dataset) - train_size\n",
    "train_dataset, test_dataset = random_split(dataset, [train_size, test_size])\n",
    "\n",
    "batch_size = 32\n",
    "train_dataloader = DataLoader(train_dataset, batch_size=batch_size, shuffle=True)\n",
    "test_dataloader = DataLoader(test_dataset, batch_size=batch_size, shuffle=False)"
   ]
  },
  {
   "cell_type": "code",
   "execution_count": 4,
   "metadata": {},
   "outputs": [
    {
     "name": "stderr",
     "output_type": "stream",
     "text": [
      "c:\\Users\\CITY3\\.conda\\envs\\i-jepaVENV\\Lib\\site-packages\\torchvision\\models\\_utils.py:208: UserWarning: The parameter 'pretrained' is deprecated since 0.13 and may be removed in the future, please use 'weights' instead.\n",
      "  warnings.warn(\n",
      "c:\\Users\\CITY3\\.conda\\envs\\i-jepaVENV\\Lib\\site-packages\\torchvision\\models\\_utils.py:223: UserWarning: Arguments other than a weight enum or `None` for 'weights' are deprecated since 0.13 and may be removed in the future. The current behavior is equivalent to passing `weights=ResNet50_Weights.IMAGENET1K_V1`. You can also use `weights=ResNet50_Weights.DEFAULT` to get the most up-to-date weights.\n",
      "  warnings.warn(msg)\n"
     ]
    }
   ],
   "source": [
    "# setup model\n",
    "from models import load_modified_resnet50_for_regression\n",
    "\n",
    "num_classes = 3\n",
    "model = load_modified_resnet50_for_regression(num_classes, state_dict_path=r\"D:\\omer\\poverty-mapping-TL\\best_model.pth\", freeze_weights=True)"
   ]
  },
  {
   "cell_type": "code",
   "execution_count": 10,
   "metadata": {},
   "outputs": [
    {
     "name": "stderr",
     "output_type": "stream",
     "text": [
      "Epoch 1/35 Training: 100%|██████████| 19/19 [00:07<00:00,  2.60it/s]\n",
      "Epoch 1/35 Testing: 100%|██████████| 9/9 [00:02<00:00,  3.29it/s]\n"
     ]
    },
    {
     "name": "stdout",
     "output_type": "stream",
     "text": [
      "New best model saved with test loss: 0.1062\n",
      "Epoch 1/35, Train Loss: 0.0477, Test Loss: 0.1062\n"
     ]
    },
    {
     "name": "stderr",
     "output_type": "stream",
     "text": [
      "Epoch 2/35 Training: 100%|██████████| 19/19 [00:07<00:00,  2.61it/s]\n",
      "Epoch 2/35 Testing: 100%|██████████| 9/9 [00:02<00:00,  3.26it/s]\n"
     ]
    },
    {
     "name": "stdout",
     "output_type": "stream",
     "text": [
      "New best model saved with test loss: 0.0286\n",
      "Epoch 2/35, Train Loss: 0.0260, Test Loss: 0.0286\n"
     ]
    },
    {
     "name": "stderr",
     "output_type": "stream",
     "text": [
      "Epoch 3/35 Training: 100%|██████████| 19/19 [00:07<00:00,  2.60it/s]\n",
      "Epoch 3/35 Testing: 100%|██████████| 9/9 [00:02<00:00,  3.25it/s]\n"
     ]
    },
    {
     "name": "stdout",
     "output_type": "stream",
     "text": [
      "Epoch 3/35, Train Loss: 0.0268, Test Loss: 0.0438\n"
     ]
    },
    {
     "name": "stderr",
     "output_type": "stream",
     "text": [
      "Epoch 4/35 Training: 100%|██████████| 19/19 [00:07<00:00,  2.58it/s]\n",
      "Epoch 4/35 Testing: 100%|██████████| 9/9 [00:02<00:00,  3.28it/s]\n"
     ]
    },
    {
     "name": "stdout",
     "output_type": "stream",
     "text": [
      "Epoch 4/35, Train Loss: 0.0253, Test Loss: 0.0287\n"
     ]
    },
    {
     "name": "stderr",
     "output_type": "stream",
     "text": [
      "Epoch 5/35 Training: 100%|██████████| 19/19 [00:07<00:00,  2.49it/s]\n",
      "Epoch 5/35 Testing: 100%|██████████| 9/9 [00:02<00:00,  3.23it/s]\n"
     ]
    },
    {
     "name": "stdout",
     "output_type": "stream",
     "text": [
      "New best model saved with test loss: 0.0285\n",
      "Epoch 5/35, Train Loss: 0.0253, Test Loss: 0.0285\n"
     ]
    },
    {
     "name": "stderr",
     "output_type": "stream",
     "text": [
      "Epoch 6/35 Training: 100%|██████████| 19/19 [00:07<00:00,  2.49it/s]\n",
      "Epoch 6/35 Testing: 100%|██████████| 9/9 [00:02<00:00,  3.28it/s]\n"
     ]
    },
    {
     "name": "stdout",
     "output_type": "stream",
     "text": [
      "Epoch 6/35, Train Loss: 0.0259, Test Loss: 0.0325\n"
     ]
    },
    {
     "name": "stderr",
     "output_type": "stream",
     "text": [
      "Epoch 7/35 Training: 100%|██████████| 19/19 [00:07<00:00,  2.62it/s]\n",
      "Epoch 7/35 Testing: 100%|██████████| 9/9 [00:02<00:00,  3.28it/s]\n"
     ]
    },
    {
     "name": "stdout",
     "output_type": "stream",
     "text": [
      "Epoch 7/35, Train Loss: 0.0297, Test Loss: 0.0299\n"
     ]
    },
    {
     "name": "stderr",
     "output_type": "stream",
     "text": [
      "Epoch 8/35 Training: 100%|██████████| 19/19 [00:07<00:00,  2.65it/s]\n",
      "Epoch 8/35 Testing: 100%|██████████| 9/9 [00:02<00:00,  3.31it/s]\n"
     ]
    },
    {
     "name": "stdout",
     "output_type": "stream",
     "text": [
      "Epoch 8/35, Train Loss: 0.0299, Test Loss: 0.0298\n"
     ]
    },
    {
     "name": "stderr",
     "output_type": "stream",
     "text": [
      "Epoch 9/35 Training: 100%|██████████| 19/19 [00:07<00:00,  2.66it/s]\n",
      "Epoch 9/35 Testing: 100%|██████████| 9/9 [00:02<00:00,  3.31it/s]\n"
     ]
    },
    {
     "name": "stdout",
     "output_type": "stream",
     "text": [
      "Epoch 9/35, Train Loss: 0.0255, Test Loss: 0.0315\n"
     ]
    },
    {
     "name": "stderr",
     "output_type": "stream",
     "text": [
      "Epoch 10/35 Training: 100%|██████████| 19/19 [00:07<00:00,  2.65it/s]\n",
      "Epoch 10/35 Testing: 100%|██████████| 9/9 [00:02<00:00,  3.29it/s]\n"
     ]
    },
    {
     "name": "stdout",
     "output_type": "stream",
     "text": [
      "Epoch 10/35, Train Loss: 0.0259, Test Loss: 0.0287\n"
     ]
    },
    {
     "name": "stderr",
     "output_type": "stream",
     "text": [
      "Epoch 11/35 Training: 100%|██████████| 19/19 [00:07<00:00,  2.62it/s]\n",
      "Epoch 11/35 Testing: 100%|██████████| 9/9 [00:02<00:00,  3.30it/s]\n"
     ]
    },
    {
     "name": "stdout",
     "output_type": "stream",
     "text": [
      "Epoch 11/35, Train Loss: 0.0248, Test Loss: 0.0296\n"
     ]
    },
    {
     "name": "stderr",
     "output_type": "stream",
     "text": [
      "Epoch 12/35 Training: 100%|██████████| 19/19 [00:07<00:00,  2.52it/s]\n",
      "Epoch 12/35 Testing: 100%|██████████| 9/9 [00:02<00:00,  3.14it/s]\n"
     ]
    },
    {
     "name": "stdout",
     "output_type": "stream",
     "text": [
      "New best model saved with test loss: 0.0283\n",
      "Epoch 12/35, Train Loss: 0.0250, Test Loss: 0.0283\n"
     ]
    },
    {
     "name": "stderr",
     "output_type": "stream",
     "text": [
      "Epoch 13/35 Training: 100%|██████████| 19/19 [00:07<00:00,  2.52it/s]\n",
      "Epoch 13/35 Testing: 100%|██████████| 9/9 [00:02<00:00,  3.22it/s]\n"
     ]
    },
    {
     "name": "stdout",
     "output_type": "stream",
     "text": [
      "Epoch 13/35, Train Loss: 0.0246, Test Loss: 0.0293\n"
     ]
    },
    {
     "name": "stderr",
     "output_type": "stream",
     "text": [
      "Epoch 14/35 Training: 100%|██████████| 19/19 [00:07<00:00,  2.62it/s]\n",
      "Epoch 14/35 Testing: 100%|██████████| 9/9 [00:02<00:00,  3.27it/s]\n"
     ]
    },
    {
     "name": "stdout",
     "output_type": "stream",
     "text": [
      "New best model saved with test loss: 0.0282\n",
      "Epoch 14/35, Train Loss: 0.0255, Test Loss: 0.0282\n"
     ]
    },
    {
     "name": "stderr",
     "output_type": "stream",
     "text": [
      "Epoch 15/35 Training: 100%|██████████| 19/19 [00:07<00:00,  2.62it/s]\n",
      "Epoch 15/35 Testing: 100%|██████████| 9/9 [00:02<00:00,  3.14it/s]\n"
     ]
    },
    {
     "name": "stdout",
     "output_type": "stream",
     "text": [
      "Epoch 15/35, Train Loss: 0.0252, Test Loss: 0.0285\n"
     ]
    },
    {
     "name": "stderr",
     "output_type": "stream",
     "text": [
      "Epoch 16/35 Training: 100%|██████████| 19/19 [00:07<00:00,  2.60it/s]\n",
      "Epoch 16/35 Testing: 100%|██████████| 9/9 [00:02<00:00,  3.13it/s]\n"
     ]
    },
    {
     "name": "stdout",
     "output_type": "stream",
     "text": [
      "Epoch 16/35, Train Loss: 0.0244, Test Loss: 0.0285\n"
     ]
    },
    {
     "name": "stderr",
     "output_type": "stream",
     "text": [
      "Epoch 17/35 Training: 100%|██████████| 19/19 [00:07<00:00,  2.56it/s]\n",
      "Epoch 17/35 Testing: 100%|██████████| 9/9 [00:02<00:00,  3.25it/s]\n"
     ]
    },
    {
     "name": "stdout",
     "output_type": "stream",
     "text": [
      "New best model saved with test loss: 0.0273\n",
      "Epoch 17/35, Train Loss: 0.0244, Test Loss: 0.0273\n"
     ]
    },
    {
     "name": "stderr",
     "output_type": "stream",
     "text": [
      "Epoch 18/35 Training: 100%|██████████| 19/19 [00:07<00:00,  2.54it/s]\n",
      "Epoch 18/35 Testing: 100%|██████████| 9/9 [00:02<00:00,  3.24it/s]\n"
     ]
    },
    {
     "name": "stdout",
     "output_type": "stream",
     "text": [
      "Epoch 18/35, Train Loss: 0.0248, Test Loss: 0.0287\n"
     ]
    },
    {
     "name": "stderr",
     "output_type": "stream",
     "text": [
      "Epoch 19/35 Training: 100%|██████████| 19/19 [00:07<00:00,  2.61it/s]\n",
      "Epoch 19/35 Testing: 100%|██████████| 9/9 [00:02<00:00,  3.23it/s]\n"
     ]
    },
    {
     "name": "stdout",
     "output_type": "stream",
     "text": [
      "Epoch 19/35, Train Loss: 0.0244, Test Loss: 0.0281\n"
     ]
    },
    {
     "name": "stderr",
     "output_type": "stream",
     "text": [
      "Epoch 20/35 Training: 100%|██████████| 19/19 [00:07<00:00,  2.58it/s]\n",
      "Epoch 20/35 Testing: 100%|██████████| 9/9 [00:02<00:00,  3.22it/s]\n"
     ]
    },
    {
     "name": "stdout",
     "output_type": "stream",
     "text": [
      "Epoch 20/35, Train Loss: 0.0248, Test Loss: 0.0373\n"
     ]
    },
    {
     "name": "stderr",
     "output_type": "stream",
     "text": [
      "Epoch 21/35 Training: 100%|██████████| 19/19 [00:07<00:00,  2.52it/s]\n",
      "Epoch 21/35 Testing: 100%|██████████| 9/9 [00:02<00:00,  3.22it/s]\n"
     ]
    },
    {
     "name": "stdout",
     "output_type": "stream",
     "text": [
      "Epoch 21/35, Train Loss: 0.0262, Test Loss: 0.0302\n"
     ]
    },
    {
     "name": "stderr",
     "output_type": "stream",
     "text": [
      "Epoch 22/35 Training: 100%|██████████| 19/19 [00:07<00:00,  2.61it/s]\n",
      "Epoch 22/35 Testing: 100%|██████████| 9/9 [00:02<00:00,  3.29it/s]\n"
     ]
    },
    {
     "name": "stdout",
     "output_type": "stream",
     "text": [
      "Epoch 22/35, Train Loss: 0.0255, Test Loss: 0.0291\n"
     ]
    },
    {
     "name": "stderr",
     "output_type": "stream",
     "text": [
      "Epoch 23/35 Training: 100%|██████████| 19/19 [00:07<00:00,  2.66it/s]\n",
      "Epoch 23/35 Testing: 100%|██████████| 9/9 [00:02<00:00,  3.35it/s]\n"
     ]
    },
    {
     "name": "stdout",
     "output_type": "stream",
     "text": [
      "Epoch 23/35, Train Loss: 0.0248, Test Loss: 0.0289\n"
     ]
    },
    {
     "name": "stderr",
     "output_type": "stream",
     "text": [
      "Epoch 24/35 Training: 100%|██████████| 19/19 [00:07<00:00,  2.69it/s]\n",
      "Epoch 24/35 Testing: 100%|██████████| 9/9 [00:02<00:00,  3.48it/s]\n"
     ]
    },
    {
     "name": "stdout",
     "output_type": "stream",
     "text": [
      "Epoch 24/35, Train Loss: 0.0249, Test Loss: 0.0296\n"
     ]
    },
    {
     "name": "stderr",
     "output_type": "stream",
     "text": [
      "Epoch 25/35 Training: 100%|██████████| 19/19 [00:07<00:00,  2.68it/s]\n",
      "Epoch 25/35 Testing: 100%|██████████| 9/9 [00:02<00:00,  3.42it/s]\n"
     ]
    },
    {
     "name": "stdout",
     "output_type": "stream",
     "text": [
      "Epoch 25/35, Train Loss: 0.0248, Test Loss: 0.0288\n"
     ]
    },
    {
     "name": "stderr",
     "output_type": "stream",
     "text": [
      "Epoch 26/35 Training: 100%|██████████| 19/19 [00:07<00:00,  2.62it/s]\n",
      "Epoch 26/35 Testing: 100%|██████████| 9/9 [00:02<00:00,  3.39it/s]\n"
     ]
    },
    {
     "name": "stdout",
     "output_type": "stream",
     "text": [
      "Epoch 26/35, Train Loss: 0.0251, Test Loss: 0.0299\n"
     ]
    },
    {
     "name": "stderr",
     "output_type": "stream",
     "text": [
      "Epoch 27/35 Training: 100%|██████████| 19/19 [00:07<00:00,  2.62it/s]\n",
      "Epoch 27/35 Testing: 100%|██████████| 9/9 [00:02<00:00,  3.41it/s]\n"
     ]
    },
    {
     "name": "stdout",
     "output_type": "stream",
     "text": [
      "Epoch 27/35, Train Loss: 0.0249, Test Loss: 0.0368\n"
     ]
    },
    {
     "name": "stderr",
     "output_type": "stream",
     "text": [
      "Epoch 28/35 Training: 100%|██████████| 19/19 [00:07<00:00,  2.57it/s]\n",
      "Epoch 28/35 Testing: 100%|██████████| 9/9 [00:02<00:00,  3.28it/s]\n"
     ]
    },
    {
     "name": "stdout",
     "output_type": "stream",
     "text": [
      "Epoch 28/35, Train Loss: 0.0256, Test Loss: 0.0299\n"
     ]
    },
    {
     "name": "stderr",
     "output_type": "stream",
     "text": [
      "Epoch 29/35 Training: 100%|██████████| 19/19 [00:07<00:00,  2.66it/s]\n",
      "Epoch 29/35 Testing: 100%|██████████| 9/9 [00:02<00:00,  3.33it/s]\n"
     ]
    },
    {
     "name": "stdout",
     "output_type": "stream",
     "text": [
      "Epoch 29/35, Train Loss: 0.0245, Test Loss: 0.0284\n"
     ]
    },
    {
     "name": "stderr",
     "output_type": "stream",
     "text": [
      "Epoch 30/35 Training: 100%|██████████| 19/19 [00:06<00:00,  2.75it/s]\n",
      "Epoch 30/35 Testing: 100%|██████████| 9/9 [00:02<00:00,  3.45it/s]\n"
     ]
    },
    {
     "name": "stdout",
     "output_type": "stream",
     "text": [
      "Epoch 30/35, Train Loss: 0.0242, Test Loss: 0.0285\n"
     ]
    },
    {
     "name": "stderr",
     "output_type": "stream",
     "text": [
      "Epoch 31/35 Training: 100%|██████████| 19/19 [00:06<00:00,  2.74it/s]\n",
      "Epoch 31/35 Testing: 100%|██████████| 9/9 [00:02<00:00,  3.43it/s]\n"
     ]
    },
    {
     "name": "stdout",
     "output_type": "stream",
     "text": [
      "Epoch 31/35, Train Loss: 0.0244, Test Loss: 0.0293\n"
     ]
    },
    {
     "name": "stderr",
     "output_type": "stream",
     "text": [
      "Epoch 32/35 Training: 100%|██████████| 19/19 [00:07<00:00,  2.61it/s]\n",
      "Epoch 32/35 Testing: 100%|██████████| 9/9 [00:02<00:00,  3.41it/s]\n"
     ]
    },
    {
     "name": "stdout",
     "output_type": "stream",
     "text": [
      "Epoch 32/35, Train Loss: 0.0244, Test Loss: 0.0289\n"
     ]
    },
    {
     "name": "stderr",
     "output_type": "stream",
     "text": [
      "Epoch 33/35 Training: 100%|██████████| 19/19 [00:07<00:00,  2.58it/s]\n",
      "Epoch 33/35 Testing: 100%|██████████| 9/9 [00:02<00:00,  3.48it/s]\n"
     ]
    },
    {
     "name": "stdout",
     "output_type": "stream",
     "text": [
      "Epoch 33/35, Train Loss: 0.0245, Test Loss: 0.0282\n"
     ]
    },
    {
     "name": "stderr",
     "output_type": "stream",
     "text": [
      "Epoch 34/35 Training: 100%|██████████| 19/19 [00:07<00:00,  2.51it/s]\n",
      "Epoch 34/35 Testing: 100%|██████████| 9/9 [00:02<00:00,  3.36it/s]\n"
     ]
    },
    {
     "name": "stdout",
     "output_type": "stream",
     "text": [
      "Epoch 34/35, Train Loss: 0.0243, Test Loss: 0.0288\n"
     ]
    },
    {
     "name": "stderr",
     "output_type": "stream",
     "text": [
      "Epoch 35/35 Training: 100%|██████████| 19/19 [00:07<00:00,  2.67it/s]\n",
      "Epoch 35/35 Testing: 100%|██████████| 9/9 [00:02<00:00,  3.41it/s]"
     ]
    },
    {
     "name": "stdout",
     "output_type": "stream",
     "text": [
      "Epoch 35/35, Train Loss: 0.0247, Test Loss: 0.0290\n",
      "Training complete\n"
     ]
    },
    {
     "name": "stderr",
     "output_type": "stream",
     "text": [
      "\n"
     ]
    },
    {
     "ename": "",
     "evalue": "",
     "output_type": "error",
     "traceback": [
      "\u001b[1;31mThe Kernel crashed while executing code in the current cell or a previous cell. \n",
      "\u001b[1;31mPlease review the code in the cell(s) to identify a possible cause of the failure. \n",
      "\u001b[1;31mClick <a href='https://aka.ms/vscodeJupyterKernelCrash'>here</a> for more info. \n",
      "\u001b[1;31mView Jupyter <a href='command:jupyter.viewOutput'>log</a> for further details."
     ]
    }
   ],
   "source": [
    "import torch\n",
    "import torch.nn as nn\n",
    "import torch.optim as optim\n",
    "from torchvision.models import resnet50\n",
    "from tqdm import tqdm\n",
    "\n",
    "device = torch.device(\"cuda\" if torch.cuda.is_available() else 'cpu')\n",
    "\n",
    "# Initialize the model\n",
    "num_classes = 3\n",
    "model = load_modified_resnet50_for_regression(num_classes)\n",
    "model = model.to(device)\n",
    "\n",
    "# Specify the loss function and optimizer\n",
    "criterion = nn.CrossEntropyLoss()\n",
    "criterion = nn.MSELoss()\n",
    "optimizer = optim.Adam(model.parameters(), lr=0.001)\n",
    "\n",
    "# Number of epochs to train for\n",
    "num_epochs = 35\n",
    "best_test_loss = float('inf')\n",
    "\n",
    "for epoch in range(num_epochs):\n",
    "    model.train()  # Set the model to training mode\n",
    "    running_loss = 0.0\n",
    "    correct_predictions = 0\n",
    "    total_predictions = 0\n",
    "\n",
    "    # Train\n",
    "    for inputs, targets  in tqdm(train_dataloader, desc=f'Epoch {epoch+1}/{num_epochs} Training'):\n",
    "        inputs = inputs.to(device)\n",
    "        # print(targets[0])\n",
    "        targets = targets.to(device).float()\n",
    "        # print(inputs.shape, targets.shape)\n",
    "        optimizer.zero_grad()  # Zero the parameter gradients\n",
    "\n",
    "        outputs = model(inputs)  # Forward pass\n",
    "        loss = criterion(outputs, targets.unsqueeze(1))\n",
    "        loss.backward()  # Backward pass and optimize\n",
    "        optimizer.step()\n",
    "\n",
    "        running_loss += loss.item()\n",
    "        \n",
    "\n",
    "    train_loss = running_loss / len(train_dataloader)\n",
    "\n",
    "    # Test\n",
    "    model.eval()\n",
    "    test_loss = 0.0\n",
    "\n",
    "    with torch.no_grad():\n",
    "        for inputs, targets in tqdm(test_dataloader, desc=f'Epoch {epoch+1}/{num_epochs} Testing'):\n",
    "            inputs = inputs.to(device)\n",
    "            targets = targets.to(device).float()\n",
    "\n",
    "            outputs = model(inputs)\n",
    "            loss = criterion(outputs, targets.unsqueeze(1))\n",
    "\n",
    "            test_loss += loss.item()\n",
    "\n",
    "    test_loss = test_loss / len(test_dataloader)\n",
    "    \n",
    "    torch.save(model.state_dict(), 'last_model_survey.pth')\n",
    "    # Save the model if test accuracy improves\n",
    "    if test_loss < best_test_loss:\n",
    "        best_test_loss = test_loss\n",
    "        torch.save(model.state_dict(), 'best_model_survey.pth')\n",
    "        print(f'New best model saved with test loss: {test_loss:.4f}')\n",
    "\n",
    "    print(f'Epoch {epoch+1}/{num_epochs}, Train Loss: {train_loss:.4f}, Test Loss: {test_loss:.4f}')\n",
    "\n",
    "print('Training complete')\n"
   ]
  },
  {
   "cell_type": "code",
   "execution_count": 7,
   "metadata": {},
   "outputs": [
    {
     "name": "stderr",
     "output_type": "stream",
     "text": [
      "c:\\Users\\CITY3\\.conda\\envs\\i-jepaVENV\\Lib\\site-packages\\torchvision\\transforms\\functional.py:1603: UserWarning: The default value of the antialias parameter of all the resizing transforms (Resize(), RandomResizedCrop(), etc.) will change from None to True in v0.17, in order to be consistent across the PIL and Tensor backends. To suppress this warning, directly pass antialias=True (recommended, future default), antialias=None (current default, which means False for Tensors and True for PIL), or antialias=False (only works on Tensors - PIL will still use antialiasing). This also applies if you are using the inference transforms from the models weights: update the call to weights.transforms(antialias=True).\n",
      "  warnings.warn(\n"
     ]
    },
    {
     "name": "stdout",
     "output_type": "stream",
     "text": [
      "Confusion Matrix:\n",
      "[[  9  93   0]\n",
      " [  0 430   0]\n",
      " [  0 186   0]]\n",
      "Classification Report:\n",
      "              precision    recall  f1-score   support\n",
      "\n",
      "           0       1.00      0.09      0.16       102\n",
      "           1       0.61      1.00      0.76       430\n",
      "           2       0.00      0.00      0.00       186\n",
      "\n",
      "    accuracy                           0.61       718\n",
      "   macro avg       0.54      0.36      0.31       718\n",
      "weighted avg       0.51      0.61      0.48       718\n",
      "\n"
     ]
    },
    {
     "name": "stderr",
     "output_type": "stream",
     "text": [
      "c:\\Users\\CITY3\\.conda\\envs\\i-jepaVENV\\Lib\\site-packages\\sklearn\\metrics\\_classification.py:1471: UndefinedMetricWarning: Precision and F-score are ill-defined and being set to 0.0 in labels with no predicted samples. Use `zero_division` parameter to control this behavior.\n",
      "  _warn_prf(average, modifier, msg_start, len(result))\n",
      "c:\\Users\\CITY3\\.conda\\envs\\i-jepaVENV\\Lib\\site-packages\\sklearn\\metrics\\_classification.py:1471: UndefinedMetricWarning: Precision and F-score are ill-defined and being set to 0.0 in labels with no predicted samples. Use `zero_division` parameter to control this behavior.\n",
      "  _warn_prf(average, modifier, msg_start, len(result))\n",
      "c:\\Users\\CITY3\\.conda\\envs\\i-jepaVENV\\Lib\\site-packages\\sklearn\\metrics\\_classification.py:1471: UndefinedMetricWarning: Precision and F-score are ill-defined and being set to 0.0 in labels with no predicted samples. Use `zero_division` parameter to control this behavior.\n",
      "  _warn_prf(average, modifier, msg_start, len(result))\n"
     ]
    }
   ],
   "source": [
    "from sklearn.metrics import confusion_matrix, classification_report\n",
    "\n",
    "model.eval()  # Set the model to evaluation mode\n",
    "\n",
    "true_labels = []\n",
    "predicted_labels = []\n",
    "\n",
    "with torch.no_grad():\n",
    "    for inputs, labels in test_dataloader:\n",
    "        inputs = inputs.to(device)\n",
    "        labels = labels.to(device)\n",
    "\n",
    "        outputs = model(inputs)\n",
    "        _, predicted = torch.max(outputs.data, 1)\n",
    "\n",
    "        true_labels.extend(labels.cpu().numpy())\n",
    "        predicted_labels.extend(predicted.cpu().numpy())\n",
    "\n",
    "# Create confusion matrix\n",
    "cm = confusion_matrix(true_labels, predicted_labels)\n",
    "print(\"Confusion Matrix:\")\n",
    "print(cm)\n",
    "\n",
    "# Create classification report\n",
    "report = classification_report(true_labels, predicted_labels)\n",
    "print(\"Classification Report:\")\n",
    "print(report)\n"
   ]
  },
  {
   "cell_type": "code",
   "execution_count": null,
   "metadata": {},
   "outputs": [],
   "source": []
  }
 ],
 "metadata": {
  "kernelspec": {
   "display_name": "i-jepaVENV",
   "language": "python",
   "name": "python3"
  },
  "language_info": {
   "codemirror_mode": {
    "name": "ipython",
    "version": 3
   },
   "file_extension": ".py",
   "mimetype": "text/x-python",
   "name": "python",
   "nbconvert_exporter": "python",
   "pygments_lexer": "ipython3",
   "version": "3.11.5"
  }
 },
 "nbformat": 4,
 "nbformat_minor": 2
}
