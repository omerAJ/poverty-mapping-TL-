import rasterio
from rasterio.mask import mask
import geopandas as gpd

# Load the shapefile
polygons = gpd.read_file('path_to_your_shapefile.shp')

# Open the raster file
with rasterio.open('path_to_your_tif_file.tif') as src:
    for index, row in polygons.iterrows():
        # Get the polygon geometry and transform to GeoJSON format
        geom = [mapping(row['geometry'])]

        # Clip the raster with the polygon using rasterio's mask function
        out_image, out_transform = mask(src, geom, crop=True)

        # Get the attribute to use as the name
        name = row['attribute_name']

        # Update the metadata with the new, clipped raster's details
        out_meta = src.meta.copy()
        out_meta.update({
            "driver": "GTiff",
            "height": out_image.shape[1],
            "width": out_image.shape[2],
            "transform": out_transform,
        })

        # Save the clipped raster to a new file
        with rasterio.open(f'{name}.tif', 'w', **out_meta) as dest:
            dest.write(out_image)